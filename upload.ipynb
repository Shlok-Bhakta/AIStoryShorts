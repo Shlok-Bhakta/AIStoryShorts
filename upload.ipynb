{
 "cells": [
  {
   "cell_type": "code",
   "execution_count": 1,
   "metadata": {},
   "outputs": [
    {
     "name": "stderr",
     "output_type": "stream",
     "text": [
      "e:\\Anaconda\\envs\\aienv\\lib\\site-packages\\tqdm\\auto.py:22: TqdmWarning: IProgress not found. Please update jupyter and ipywidgets. See https://ipywidgets.readthedocs.io/en/stable/user_install.html\n",
      "  from .autonotebook import tqdm as notebook_tqdm\n"
     ]
    }
   ],
   "source": [
    "import gc\n",
    "import json\n",
    "import os\n",
    "import random\n",
    "import subprocess\n",
    "import time\n",
    "import sys\n",
    "from threading import Thread\n",
    "from time import sleep\n",
    "import openai\n",
    "import os\n",
    "import music21\n",
    "import soundfile\n",
    "import torch\n",
    "from diffusers import DiffusionPipeline\n",
    "from espnet2.bin.tts_inference import Text2Speech\n",
    "from midi2audio import FluidSynth\n",
    "from moviepy.audio.fx.volumex import volumex\n",
    "from moviepy.editor import *\n",
    "from moviepy.video.fx.all import crop, scroll\n",
    "from music21 import converter, midi\n",
    "from nltk import tokenize\n",
    "from profanity_filter import ProfanityFilter\n",
    "from samplings import temperature_sampling, top_p_sampling\n",
    "from transformers import AutoModelForSeq2SeqLM, AutoTokenizer, pipeline\n",
    "from custom_selenium import *\n",
    "\n",
    "from custom_stable_pipe import StableDiffusionWalkPipeline\n",
    "\n",
    "amountOfPrompts = 5\n",
    "storageLocation = \"videos\"\n",
    "\n",
    "#sets character limit per line\n",
    "lineCharacterLimit = 20\n",
    "\n",
    "# Schedule Times:\n",
    "scheduleTimes = [\"12:00AM\", \"6:00AM\", \"12:00PM\", \"5:00PM\", \"10:00PM\"]\n",
    "\n",
    "#models\n",
    "gptModel = \"KoboldAI/OPT-350M-Nerys-v2\"\n",
    "ttsModel = \"espnet/kan-bayashi_ljspeech_joint_finetune_conformer_fastspeech2_hifigan\"\n",
    "#imageModel = \"prompthero/openjourney-v2\"\n",
    "imageModel = \"CompVis/stable-diffusion-v1-4\"\n",
    "musicModel = 'sander-wood/text-to-music'\n",
    "\n",
    "useOnline = True\n",
    "\n",
    "knownGoodMusic = \"F:/PyYoutube/PythonCode/Notebooks/videos/videoSession80/video5/music.wav\"\n",
    "\n",
    "openai.api_key = os.environ['OPENAIKEY']\n",
    "sessionNum = 92"
   ]
  },
  {
   "cell_type": "code",
   "execution_count": 3,
   "metadata": {},
   "outputs": [
    {
     "name": "stderr",
     "output_type": "stream",
     "text": [
      "WARNING:custom_selenium:The video description was not found in a metadata file\n",
      "DEBUG:custom_selenium:Attached video videos/videoSession92/video1/finalVideo.mp4\n",
      "DEBUG:custom_selenium:The video title was set to \"Sylas' Award-Winning Jar of Jam!!!\"\n",
      "DEBUG:custom_selenium:Clicked next-button\n",
      "DEBUG:custom_selenium:Clicked another next-button\n",
      "DEBUG:custom_selenium:Clicked a third next-button\n"
     ]
    },
    {
     "name": "stdout",
     "output_type": "stream",
     "text": [
      "True ZUL5JRPJcmU\n"
     ]
    },
    {
     "name": "stderr",
     "output_type": "stream",
     "text": [
      "WARNING:custom_selenium:The video description was not found in a metadata file\n",
      "DEBUG:custom_selenium:Attached video videos/videoSession92/video2/finalVideo.mp4\n",
      "DEBUG:custom_selenium:The video title was set to \"MAKING a Hammer from History\"\n",
      "DEBUG:custom_selenium:Clicked next-button\n",
      "DEBUG:custom_selenium:Clicked another next-button\n",
      "DEBUG:custom_selenium:Clicked a third next-button\n"
     ]
    },
    {
     "name": "stdout",
     "output_type": "stream",
     "text": [
      "True yMF4J8zoYgE\n"
     ]
    },
    {
     "name": "stderr",
     "output_type": "stream",
     "text": [
      "WARNING:custom_selenium:The video description was not found in a metadata file\n",
      "DEBUG:custom_selenium:Attached video videos/videoSession92/video3/finalVideo.mp4\n",
      "DEBUG:custom_selenium:The video title was set to \"War ON Mars: A Tale!!\"\n",
      "DEBUG:custom_selenium:Clicked next-button\n",
      "DEBUG:custom_selenium:Clicked another next-button\n",
      "DEBUG:custom_selenium:Clicked a third next-button\n"
     ]
    },
    {
     "name": "stdout",
     "output_type": "stream",
     "text": [
      "True ia_J3asYedo\n"
     ]
    },
    {
     "name": "stderr",
     "output_type": "stream",
     "text": [
      "WARNING:custom_selenium:The video description was not found in a metadata file\n",
      "DEBUG:custom_selenium:Attached video videos/videoSession92/video4/finalVideo.mp4\n",
      "DEBUG:custom_selenium:The video title was set to \"Ellis won the best house\"\n",
      "DEBUG:custom_selenium:Clicked next-button\n",
      "DEBUG:custom_selenium:Clicked another next-button\n",
      "DEBUG:custom_selenium:Clicked a third next-button\n"
     ]
    },
    {
     "name": "stdout",
     "output_type": "stream",
     "text": [
      "True RZkobJ5WL9M\n"
     ]
    },
    {
     "name": "stderr",
     "output_type": "stream",
     "text": [
      "WARNING:custom_selenium:The video description was not found in a metadata file\n",
      "DEBUG:custom_selenium:Attached video videos/videoSession92/video5/finalVideo.mp4\n",
      "DEBUG:custom_selenium:The video title was set to \"MAJESTIC King Crab Ruling Moscow\"\n",
      "DEBUG:custom_selenium:Clicked next-button\n",
      "DEBUG:custom_selenium:Clicked another next-button\n",
      "DEBUG:custom_selenium:Clicked a third next-button\n"
     ]
    },
    {
     "name": "stdout",
     "output_type": "stream",
     "text": [
      "True ctxjDJuwkc0\n",
      "SECTION 11 COMPLETE\n",
      "================================================================\n",
      "VIDEOS UPLOADED 😁\n"
     ]
    }
   ],
   "source": [
    "for i in range(amountOfPrompts):\n",
    "    video_path = f'{storageLocation}/videoSession{sessionNum}/video{i+1}/finalVideo.mp4'\n",
    "    metadata_path = f'{storageLocation}/videoSession{sessionNum}/video{i+1}/metadata.json'\n",
    "\n",
    "    uploader = YouTubeUploader(video_path, metadata_path)\n",
    "    was_video_uploaded, video_id = uploader.upload()\n",
    "    print(was_video_uploaded, video_id)\n",
    "print(\"SECTION 11 COMPLETE\")\n",
    "print(\"================================================================\")\n",
    "print(\"VIDEOS UPLOADED 😁\")"
   ]
  }
 ],
 "metadata": {
  "kernelspec": {
   "display_name": "aienv",
   "language": "python",
   "name": "python3"
  },
  "language_info": {
   "codemirror_mode": {
    "name": "ipython",
    "version": 3
   },
   "file_extension": ".py",
   "mimetype": "text/x-python",
   "name": "python",
   "nbconvert_exporter": "python",
   "pygments_lexer": "ipython3",
   "version": "3.9.16"
  },
  "orig_nbformat": 4
 },
 "nbformat": 4,
 "nbformat_minor": 2
}
